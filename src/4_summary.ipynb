{
 "cells": [
  {
   "cell_type": "markdown",
   "id": "78555603",
   "metadata": {},
   "source": [
    "\n",
    "# Final Summary Report – Dirty Cafe Sales\n",
    "\n",
    "## Przeprowadzona analiza\n",
    "\n",
    "W ramach projektu wykonano trzy główne etapy:\n",
    "1. **Czyszczenie danych** – usunięto i zamieniono wartości brakujące i błędne, poprawiono formaty oraz kategorie.\n",
    "\n",
    "    - Brakujące dane są MCAR (_Missing Completely At Random_) - nie istnieje konkretna zależność stwierdzająca przyczynę braku.\n",
    "    - Poprawnie uzupełniono dane zależne od innych kolumn (relacja między `Quantity`, `Price Per Unit` oraz `Total Spent`)\n",
    "    - Przeprowadzono imputację danych dla danych w skali ilorazowej z użyciem MICE, gdyż nadaje się do problemów MAR. W przypadku danych dyskretnych oraz w skali nominalnej użyto lasu losowego. Na wykresach można dostrzec odpowiednie rozwarstwienie danych bez znaczących wartości odstających.\n",
    "\n",
    "2. **Analiza opisowa** – zbadano statystyki sprzedaży, strukturę danych oraz występowanie odstających wartości.\n",
    "\n",
    "    - Główną zmienną zależną jest kolumna `Total Spent`, informująca o przychodach ze sprzedaży.\n",
    "    - Analiza była skoncentrowana na \"sezonowości\" sprzedaży oraz formą odbioru produktów - nie odnotowano znaczących różnic.\n",
    "    - **Sałatki**, **kanapki** oraz **smoothie** cieszą się największą popularnością przez cały okres roku.\n",
    "\n",
    "3. **Wizualizacje** – zwizualizowano popularność produktów, rozkład kwot transakcji, metody płatności oraz sezonowość sprzedaży.\n",
    "\n",
    "## Kluczowe wnioski\n",
    "\n",
    "- **Sprzedaż** jest skoncentrowana na kilku kluczowych produktach (kawa, ciasto, sandwich).\n",
    "- **Rozkład wydatków** pokazuje dominację transakcji niskokwotowych, z kilkoma wyjątkowo wysokimi wartościami potencjalnie wymagającymi weryfikacji.\n",
    "- **Metody płatności** różnią się w zależności od lokalizacji (np. na wynos częściej płatności kartą).\n",
    "- **Sezonowość** sprzedaży wskazuje na wyraźne wzorce dzienne i miesięczne.\n",
    "\n",
    "## Ograniczenia analizy\n",
    "\n",
    "- Dane syntetyczne mogą nie w pełni odzwierciedlać realnych rozkładów w biznesie.\n",
    "- Braki i błędy danych w kolumnach ilości i ceny wymagały imputacji, co mogło wpłynąć na ostateczne wnioski.\n",
    "- Nie uwzględniono promocji, sezonowości zewnętrznej (np. świąt) ani kosztów operacyjnych.\n",
    "\n",
    "## Propozycje dalszego modelowania\n",
    "\n",
    "- Predykcja kwoty wydatku na podstawie typu produktu, lokalizacji i metody płatności.\n",
    "- Segmentacja klientów i transakcji w celu personalizacji oferty.\n",
    "- Detekcja anomalii w transakcjach w kontekście fraud detection.\n",
    "\n",
    "## Wnioski końcowe\n",
    "\n",
    "Analiza pozwoliła uzyskać pełny obraz jakości, struktury oraz kluczowych wzorców danych sprzedaży w Dirty Cafe Sales. Zbiór po oczyszczeniu stanowi dobrą podstawę do budowy modeli predykcyjnych, rekomendacji oraz automatycznych systemów wspierających decyzje biznesowe.\n"
   ]
  }
 ],
 "metadata": {
  "language_info": {
   "name": "python"
  }
 },
 "nbformat": 4,
 "nbformat_minor": 5
}
